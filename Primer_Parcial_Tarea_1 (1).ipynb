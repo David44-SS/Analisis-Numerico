{
  "nbformat": 4,
  "nbformat_minor": 0,
  "metadata": {
    "colab": {
      "name": "Primer Parcial_Tarea 1.ipynb",
      "provenance": [],
      "collapsed_sections": []
    },
    "kernelspec": {
      "name": "python3",
      "display_name": "Python 3"
    }
  },
  "cells": [
    {
      "cell_type": "markdown",
      "metadata": {
        "id": "ee3FaeQVJwWA"
      },
      "source": [
        "**Ejercicio 1**\n",
        "##*número par o impar*"
      ]
    },
    {
      "cell_type": "code",
      "metadata": {
        "id": "B6FaMKDliGAq"
      },
      "source": [
        "print(\"Bievenido\")\n",
        "value = int(input(\"Introduzca un valor entero, por favor:\"))\n",
        "modulo = (value%2)\n",
        "if modulo != 0:\n",
        "  print(\"Es impar\")\n",
        "else:\n",
        "  print(\"Es par\")"
      ],
      "execution_count": null,
      "outputs": []
    },
    {
      "cell_type": "markdown",
      "metadata": {
        "id": "Nk-ElmuDJ1YB"
      },
      "source": [
        "**Ejercicio 2** \n",
        "##*Cadena de caracteres*"
      ]
    },
    {
      "cell_type": "code",
      "metadata": {
        "id": "GjgJuTaULBtR"
      },
      "source": [
        "print(\"Bievenido\")\n",
        "texto = str(input(\"introduzca una cadena de caracteres, por favor: \"))\n",
        "a = int(input(\"Introduzca el número de veces a repetir (valor entero): \")) \n",
        "mult = a * texto\n",
        "print(mult,\"\\n\")\n"
      ],
      "execution_count": null,
      "outputs": []
    },
    {
      "cell_type": "markdown",
      "metadata": {
        "id": "VWwxLhzZOl69"
      },
      "source": [
        "**Ejercicio 3**\n",
        "##Horas y costo por horas"
      ]
    },
    {
      "cell_type": "code",
      "metadata": {
        "id": "s_-HGTkuO7Cb"
      },
      "source": [
        "print(\"BIENVENIDO\")\n",
        "def sueldo(horas, costo = 150):\n",
        "  dia = (horas*costo)\n",
        "  print(\"Su sueldo del día es: \", dia)\n",
        "  cdia = (dia*5)\n",
        "  print(\"Su sueldo de una semana es: \", cdia)\n",
        "  mes = (cdia*4)\n",
        "  print(\"Su sueldo de una semana es: \", mes)\n",
        "\n",
        "a = int(input(\"Introduzca el número de horas laboradas: \"))\n",
        "\n",
        "sueldo(a)"
      ],
      "execution_count": null,
      "outputs": []
    },
    {
      "cell_type": "markdown",
      "metadata": {
        "id": "Z7kYXrVrnF9y"
      },
      "source": [
        "**Ejercicio 4 **\n",
        "##*Calculadora* "
      ]
    },
    {
      "cell_type": "code",
      "metadata": {
        "id": "Ra-8g5acoDIn"
      },
      "source": [
        "print(\"BIENVENIDO\")\n",
        "print(\"           Menú        \")\n",
        "print(\"1.- Suma\")\n",
        "print(\"2.- Resta\")\n",
        "print(\"3.- Multiplicación\")\n",
        "print(\"4.- División\")\n",
        "opt = int(input(\"Seleccione la operación deseada: \"))\n",
        "\n",
        "if opt == 1:\n",
        "  a = float (input(\"Introduzca el primer valor: \"))\n",
        "  b = float (input(\"Introduzca el segundo valor: \"))\n",
        "  c = a+b\n",
        "  print(\"El resultado de la suma es: \", c)\n",
        "else:\n",
        "  if opt == 2:\n",
        "    a = float (input(\"Introduzca el primer valor: \"))\n",
        "    b = float (input(\"Introduzca el segundo valor: \"))\n",
        "    c = a-b\n",
        "    print(\"El resultado de la resta es: \", c)\n",
        "  else:\n",
        "   if opt == 3:\n",
        "     a = float (input(\"Introduzca el primer valor: \"))\n",
        "     b = float (input(\"Introduzca el segundo valor: \"))\n",
        "     c = a*b\n",
        "     print(\"El resultado de la multiplicacion es: \", c)\n",
        "   else:\n",
        "     if opt == 4:\n",
        "       a = float (input(\"Introduzca el primer valor: \"))\n",
        "       b = float (input(\"Introduzca el segundo valor: \"))\n",
        "       c = a/b\n",
        "       print(\"El resultado de la division es: \", c)\n",
        "     else: \n",
        "       print(\"opcion invalida\")"
      ],
      "execution_count": null,
      "outputs": []
    },
    {
      "cell_type": "markdown",
      "metadata": {
        "id": "Yln51upw1YNk"
      },
      "source": [
        "**Ejercicio 5**\n",
        "##Peso pedido"
      ]
    },
    {
      "cell_type": "code",
      "metadata": {
        "id": "IbR8EuE91ocX"
      },
      "source": [
        "print(\"Bienvenido\")\n",
        "def pj(payasos,juegos):\n",
        "  payasos = int (input(\"Introduzca el numero de payasos de juguete: \"))\n",
        "  juegos = int (input(\"Inrtroduzca el número de juegos de mesa: \"))\n",
        "  pesop = payasos*0.150\n",
        "  pesoj = juegos*0.170\n",
        "  ptotal = pesop+pesoj\n",
        "  print(\"El peso total del pedido es: \",ptotal,\"Kg.\")\n",
        "  if ptotal >= 10:\n",
        "    print(\"Error\")\n",
        "    pesoexceso = ptotal - 10 \n",
        "    print(\"El pedido excede el máximo permitido de 10 Kg. por: \",pesoexceso,\"Kg\")\n",
        "\n",
        "pj(0,0)"
      ],
      "execution_count": null,
      "outputs": []
    },
    {
      "cell_type": "markdown",
      "metadata": {
        "id": "Yiwx0iyR-sIr"
      },
      "source": [
        "**Ejercicio 6**\n",
        "##Rango, Salario menos impuestos"
      ]
    },
    {
      "cell_type": "code",
      "metadata": {
        "id": "QKHzdWb1Pd9g"
      },
      "source": [
        "print(\"BIENVENIDO\")\n",
        "def sueldo(cantidad):\n",
        "  cantidad = int (input(\"Introduzca el sueldo en numero, por favor:\"))\n",
        "  if cantidad<10000:\n",
        "    impuesto = cantidad*0.05\n",
        "    simpuesto = cantidad-impuesto\n",
        "    print(\"El sueldo total menos el impuesto es: \",simpuesto,\"pesos\")\n",
        "  else:\n",
        "    if 10000<=cantidad<=15000:\n",
        "      impuesto = cantidad*0.10\n",
        "      simpuesto = cantidad-impuesto\n",
        "      print(\"El sueldo total menos el impuesto es: \",simpuesto,\"pesos\")\n",
        "    else:\n",
        "      if 15000<=cantidad<=20000:\n",
        "        impuesto = cantidad*0.15\n",
        "        simpuesto = cantidad-impuesto\n",
        "        print(\"El sueldo total menos el impuesto es: \",simpuesto,\"pesos\")\n",
        "      else:\n",
        "        if 20000<=cantidad<=100000000:\n",
        "          impuesto = cantidad*0.18\n",
        "          simpuesto = cantidad-impuesto\n",
        "          print(\"El sueldo total menos el impuesto es: \",simpuesto,\"pesos\")\n",
        "\n",
        "sueldo(0)"
      ],
      "execution_count": null,
      "outputs": []
    },
    {
      "cell_type": "markdown",
      "metadata": {
        "id": "D7ptvSiydf2x"
      },
      "source": [
        "**Ejercicio** 7\n",
        "##Costos y descuentos museo"
      ]
    },
    {
      "cell_type": "code",
      "metadata": {
        "id": "RG8x1xG2dp98"
      },
      "source": [
        "print(\"BIENVENIDO\")\n",
        "def entrada(edad,ocupacion):\n",
        "  edad = int (input(\"Introduzca su edad (numero), por favor: \"))\n",
        "  ocupacion = str (input(\"Introduzca su ocupación por favor: \"))\n",
        "  valore = 0\n",
        "  if edad<=4:\n",
        "    print(\"El costo de su entrada es de: \",valore,\"pesos\")\n",
        "  else:\n",
        "     if 4<=edad<=16:\n",
        "       credencial = str (input(\"¿Cuentas con credencial de estudiante?\"))\n",
        "       print(\"Teclee si o no\")\n",
        "       if credencial == 'si' or 'Sí':\n",
        "         valor = valore+50\n",
        "         descuento = valore*0.10\n",
        "         valorf = valor - descuento\n",
        "         print(\"El costo de su entrada es de: \",valorf,\"pesos\")\n",
        "     else:\n",
        "          valor = valore+50\n",
        "          print(\"El costo de su entrada es de: \",valore,\"pesos\")\n",
        "          if 16<=edad<=2000:\n",
        "           valor = valore+100 \n",
        "          if ocupacion == 'docente' or 'Docente' or'profesor' or 'Profesor': \n",
        "           docente = str(input(\"¿Cuentas con credencial de docente? \" ))\n",
        "           if docente =='si'or'Sí'or'sí'or'SÍ':\n",
        "            valor = valore+100\n",
        "            descuento = valor*0.30\n",
        "            valorf = valor-descuento\n",
        "            print(\"El costo de su entrada es de: \",valorf,\"pesos\")\n",
        "\n",
        "entrada(0,0)\n",
        "        "
      ],
      "execution_count": null,
      "outputs": []
    },
    {
      "cell_type": "markdown",
      "metadata": {
        "id": "jpgRWmEJxavb"
      },
      "source": [
        "**Ejercicio 8**\n",
        "##Número entero"
      ]
    },
    {
      "cell_type": "code",
      "metadata": {
        "id": "BZQUkZhgxpSU"
      },
      "source": [
        "print(\"BIENVENIDO\")\n",
        "\n",
        "a = int(input(\"Teclee el número de veces que desea repertir el patrón, por favor: \"))\n",
        "\n",
        "c = 0\n",
        "f = 0\n",
        "while f<=a:\n",
        "  print((f*\"*\")+c*' ')\n",
        "  f=f+1\n",
        "  c=c+1"
      ],
      "execution_count": null,
      "outputs": []
    },
    {
      "cell_type": "markdown",
      "metadata": {
        "id": "3QNu8T10INXU"
      },
      "source": [
        "**Ejercicio 9**\n",
        "##Factorial"
      ]
    },
    {
      "cell_type": "code",
      "metadata": {
        "id": "FCWo6lr9ISbp"
      },
      "source": [
        "print(\"Bienvenido\")\n",
        "def Facto(a):\n",
        "  a = int (input(\"Introduzca el número del cuál desea su factorial (debe ser entero positivo): \"))\n",
        "  n = 0\n",
        "  while n<=a:\n",
        "    print(a*n)\n",
        "    n=n+1\n",
        "\n",
        "Facto(0)"
      ],
      "execution_count": null,
      "outputs": []
    },
    {
      "cell_type": "markdown",
      "metadata": {
        "id": "hOIKrD6FITH3"
      },
      "source": [
        "**Ejercicio 10**\n",
        "##área y volumen de un cilindro "
      ]
    },
    {
      "cell_type": "code",
      "metadata": {
        "id": "ZTgHXF_rIibZ"
      },
      "source": [
        "print(\"BIENVENIDO\")\n",
        "def circulo (radio,a,p=3.1415):\n",
        "  radio = float (input(\"Teclee el valor del radio, por favor: \"))\n",
        "  a = radio*radio*p \n",
        "  return area\n",
        "  altura = float (input(\"Teclee el valor de la altura por favor: \"))\n",
        " cilindro = cilindro(circulo(a),altura)\n",
        "\n",
        "print(\"El valor del area de circulo es: \",area,\"unidades\")\n",
        "print(\"El valor del volumen del cilindro es: \",cilindro,\"unidades\")\n",
        "\n",
        "circulo(0)"
      ],
      "execution_count": null,
      "outputs": []
    }
  ]
}